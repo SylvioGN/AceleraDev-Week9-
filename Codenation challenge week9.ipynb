{
 "cells": [
  {
   "cell_type": "markdown",
   "metadata": {},
   "source": [
    "# Importing libraries"
   ]
  },
  {
   "cell_type": "code",
   "execution_count": 1,
   "metadata": {},
   "outputs": [],
   "source": [
    "import numpy as np\n",
    "import pandas as pd\n",
    "import matplotlib.pyplot as plt\n",
    "import seaborn as sns\n",
    "from imblearn.over_sampling import SMOTE\n",
    "from sklearn.model_selection import train_test_split\n",
    "from sklearn.linear_model import LogisticRegression\n",
    "from sklearn.neighbors import KNeighborsClassifier\n",
    "from scipy.stats import randint\n",
    "from sklearn.tree import DecisionTreeClassifier\n",
    "from sklearn.model_selection import RandomizedSearchCV\n",
    "import warnings\n",
    "\n",
    "#Setup\n",
    "\n",
    "%matplotlib inline\n",
    "pd.set_option(\"display.max_columns\", 200)\n",
    "pd.set_option(\"display.max_rows\", 200)\n",
    "\n",
    "from IPython.core.pylabtools import figsize\n",
    "figsize(15, 15)\n",
    "\n",
    "warnings.filterwarnings('ignore')"
   ]
  },
  {
   "cell_type": "markdown",
   "metadata": {},
   "source": [
    "## reading csv files"
   ]
  },
  {
   "cell_type": "code",
   "execution_count": 2,
   "metadata": {},
   "outputs": [],
   "source": [
    "train = pd.read_csv('train.csv', index_col=0)\n",
    "test = pd.read_csv('test.csv')"
   ]
  },
  {
   "cell_type": "code",
   "execution_count": 3,
   "metadata": {},
   "outputs": [
    {
     "data": {
      "text/plain": [
       "((13730, 166), (4570, 43))"
      ]
     },
     "execution_count": 3,
     "metadata": {},
     "output_type": "execute_result"
    }
   ],
   "source": [
    "train.shape, test.shape"
   ]
  },
  {
   "cell_type": "markdown",
   "metadata": {},
   "source": [
    "We can see that the test and train datasets have different amount of columns.\n",
    "Therefore we have to analyse which columns are the same for both datasets."
   ]
  },
  {
   "cell_type": "code",
   "execution_count": 4,
   "metadata": {},
   "outputs": [],
   "source": [
    "columns = list(train.columns & test.columns)"
   ]
  },
  {
   "cell_type": "markdown",
   "metadata": {},
   "source": [
    "Note that the target variable(`IN_TREINEIRO`) is not included in the list above."
   ]
  },
  {
   "cell_type": "markdown",
   "metadata": {},
   "source": [
    "## Filtering the datasets with the columns name above"
   ]
  },
  {
   "cell_type": "markdown",
   "metadata": {},
   "source": [
    "#### Train dataset "
   ]
  },
  {
   "cell_type": "code",
   "execution_count": 5,
   "metadata": {},
   "outputs": [],
   "source": [
    "df_train = train[columns]\n",
    "df_train['IN_TREINEIRO'] = train['IN_TREINEIRO']"
   ]
  },
  {
   "cell_type": "markdown",
   "metadata": {},
   "source": [
    "#### Test dataset "
   ]
  },
  {
   "cell_type": "code",
   "execution_count": 6,
   "metadata": {},
   "outputs": [],
   "source": [
    "df_test = test[columns]"
   ]
  },
  {
   "cell_type": "markdown",
   "metadata": {},
   "source": [
    "## Analysing target variable"
   ]
  },
  {
   "cell_type": "code",
   "execution_count": 7,
   "metadata": {},
   "outputs": [
    {
     "data": {
      "image/png": "[encoded data removed]",
      "text/plain": [
       "<Figure size 1080x1080 with 1 Axes>"
      ]
     },
     "metadata": {
      "needs_background": "light"
     },
     "output_type": "display_data"
    }
   ],
   "source": [
    "ax = sns.countplot('IN_TREINEIRO',data = df_train)\n",
    "total =len(df_train['IN_TREINEIRO'])\n",
    "for p in ax.patches:\n",
    "    height = p.get_height()\n",
    "    ax.text(p.get_x()+p.get_width()/2.,\n",
    "            height + 3,\n",
    "            '{:1.2f}'.format(height/total),\n",
    "            ha=\"center\") \n",
    "plt.show()"
   ]
  },
  {
   "cell_type": "markdown",
   "metadata": {},
   "source": [
    "According to the plot above, we are dealing with an imbalanced dataset.\n",
    "\n",
    "87% of the people who had took the test were not in training, hence 13% were in training condition.\n",
    "\n",
    "\n",
    "#### First we are going to process the dataframe (clean it and feature engineering) and then we can handle the imbalanced issue."
   ]
  },
  {
   "cell_type": "markdown",
   "metadata": {},
   "source": [
    "## Let's join the df_train and df_test datasets"
   ]
  },
  {
   "cell_type": "code",
   "execution_count": 8,
   "metadata": {},
   "outputs": [],
   "source": [
    "df_train['train'] = True\n",
    "df_test['train'] = False"
   ]
  },
  {
   "cell_type": "code",
   "execution_count": 9,
   "metadata": {},
   "outputs": [],
   "source": [
    "df = pd.concat([df_train,df_test])"
   ]
  },
  {
   "cell_type": "markdown",
   "metadata": {},
   "source": [
    "## EDA"
   ]
  },
  {
   "cell_type": "code",
   "execution_count": 10,
   "metadata": {},
   "outputs": [
    {
     "data": {
      "text/html": [
       "<div>\n",
       "<style scoped>\n",
       "    .dataframe tbody tr th:only-of-type {\n",
       "        vertical-align: middle;\n",
       "    }\n",
       "\n",
       "    .dataframe tbody tr th {\n",
       "        vertical-align: top;\n",
       "    }\n",
       "\n",
       "    .dataframe thead th {\n",
       "        text-align: right;\n",
       "    }\n",
       "</style>\n",
       "<table border=\"1\" class=\"dataframe\">\n",
       "  <thead>\n",
       "    <tr style=\"text-align: right;\">\n",
       "      <th></th>\n",
       "      <th>columns</th>\n",
       "      <th>type</th>\n",
       "      <th>unique</th>\n",
       "      <th>missing</th>\n",
       "      <th>size</th>\n",
       "      <th>missing_%</th>\n",
       "    </tr>\n",
       "  </thead>\n",
       "  <tbody>\n",
       "    <tr>\n",
       "      <th>NU_INSCRICAO</th>\n",
       "      <td>NU_INSCRICAO</td>\n",
       "      <td>object</td>\n",
       "      <td>18300</td>\n",
       "      <td>0</td>\n",
       "      <td>18300</td>\n",
       "      <td>0.00</td>\n",
       "    </tr>\n",
       "    <tr>\n",
       "      <th>CO_UF_RESIDENCIA</th>\n",
       "      <td>CO_UF_RESIDENCIA</td>\n",
       "      <td>int64</td>\n",
       "      <td>27</td>\n",
       "      <td>0</td>\n",
       "      <td>18300</td>\n",
       "      <td>0.00</td>\n",
       "    </tr>\n",
       "    <tr>\n",
       "      <th>SG_UF_RESIDENCIA</th>\n",
       "      <td>SG_UF_RESIDENCIA</td>\n",
       "      <td>object</td>\n",
       "      <td>27</td>\n",
       "      <td>0</td>\n",
       "      <td>18300</td>\n",
       "      <td>0.00</td>\n",
       "    </tr>\n",
       "    <tr>\n",
       "      <th>NU_IDADE</th>\n",
       "      <td>NU_IDADE</td>\n",
       "      <td>int64</td>\n",
       "      <td>55</td>\n",
       "      <td>0</td>\n",
       "      <td>18300</td>\n",
       "      <td>0.00</td>\n",
       "    </tr>\n",
       "    <tr>\n",
       "      <th>TP_SEXO</th>\n",
       "      <td>TP_SEXO</td>\n",
       "      <td>object</td>\n",
       "      <td>2</td>\n",
       "      <td>0</td>\n",
       "      <td>18300</td>\n",
       "      <td>0.00</td>\n",
       "    </tr>\n",
       "    <tr>\n",
       "      <th>TP_COR_RACA</th>\n",
       "      <td>TP_COR_RACA</td>\n",
       "      <td>int64</td>\n",
       "      <td>6</td>\n",
       "      <td>0</td>\n",
       "      <td>18300</td>\n",
       "      <td>0.00</td>\n",
       "    </tr>\n",
       "    <tr>\n",
       "      <th>TP_NACIONALIDADE</th>\n",
       "      <td>TP_NACIONALIDADE</td>\n",
       "      <td>int64</td>\n",
       "      <td>5</td>\n",
       "      <td>0</td>\n",
       "      <td>18300</td>\n",
       "      <td>0.00</td>\n",
       "    </tr>\n",
       "    <tr>\n",
       "      <th>TP_ST_CONCLUSAO</th>\n",
       "      <td>TP_ST_CONCLUSAO</td>\n",
       "      <td>int64</td>\n",
       "      <td>4</td>\n",
       "      <td>0</td>\n",
       "      <td>18300</td>\n",
       "      <td>0.00</td>\n",
       "    </tr>\n",
       "    <tr>\n",
       "      <th>TP_ANO_CONCLUIU</th>\n",
       "      <td>TP_ANO_CONCLUIU</td>\n",
       "      <td>int64</td>\n",
       "      <td>11</td>\n",
       "      <td>0</td>\n",
       "      <td>18300</td>\n",
       "      <td>0.00</td>\n",
       "    </tr>\n",
       "    <tr>\n",
       "      <th>TP_ESCOLA</th>\n",
       "      <td>TP_ESCOLA</td>\n",
       "      <td>int64</td>\n",
       "      <td>4</td>\n",
       "      <td>0</td>\n",
       "      <td>18300</td>\n",
       "      <td>0.00</td>\n",
       "    </tr>\n",
       "    <tr>\n",
       "      <th>TP_ENSINO</th>\n",
       "      <td>TP_ENSINO</td>\n",
       "      <td>float64</td>\n",
       "      <td>3</td>\n",
       "      <td>12592</td>\n",
       "      <td>18300</td>\n",
       "      <td>0.69</td>\n",
       "    </tr>\n",
       "    <tr>\n",
       "      <th>TP_DEPENDENCIA_ADM_ESC</th>\n",
       "      <td>TP_DEPENDENCIA_ADM_ESC</td>\n",
       "      <td>float64</td>\n",
       "      <td>4</td>\n",
       "      <td>12592</td>\n",
       "      <td>18300</td>\n",
       "      <td>0.69</td>\n",
       "    </tr>\n",
       "    <tr>\n",
       "      <th>IN_BAIXA_VISAO</th>\n",
       "      <td>IN_BAIXA_VISAO</td>\n",
       "      <td>int64</td>\n",
       "      <td>2</td>\n",
       "      <td>0</td>\n",
       "      <td>18300</td>\n",
       "      <td>0.00</td>\n",
       "    </tr>\n",
       "    <tr>\n",
       "      <th>IN_CEGUEIRA</th>\n",
       "      <td>IN_CEGUEIRA</td>\n",
       "      <td>int64</td>\n",
       "      <td>2</td>\n",
       "      <td>0</td>\n",
       "      <td>18300</td>\n",
       "      <td>0.00</td>\n",
       "    </tr>\n",
       "    <tr>\n",
       "      <th>IN_SURDEZ</th>\n",
       "      <td>IN_SURDEZ</td>\n",
       "      <td>int64</td>\n",
       "      <td>2</td>\n",
       "      <td>0</td>\n",
       "      <td>18300</td>\n",
       "      <td>0.00</td>\n",
       "    </tr>\n",
       "    <tr>\n",
       "      <th>IN_DISLEXIA</th>\n",
       "      <td>IN_DISLEXIA</td>\n",
       "      <td>int64</td>\n",
       "      <td>2</td>\n",
       "      <td>0</td>\n",
       "      <td>18300</td>\n",
       "      <td>0.00</td>\n",
       "    </tr>\n",
       "    <tr>\n",
       "      <th>IN_DISCALCULIA</th>\n",
       "      <td>IN_DISCALCULIA</td>\n",
       "      <td>int64</td>\n",
       "      <td>2</td>\n",
       "      <td>0</td>\n",
       "      <td>18300</td>\n",
       "      <td>0.00</td>\n",
       "    </tr>\n",
       "    <tr>\n",
       "      <th>IN_SABATISTA</th>\n",
       "      <td>IN_SABATISTA</td>\n",
       "      <td>int64</td>\n",
       "      <td>2</td>\n",
       "      <td>0</td>\n",
       "      <td>18300</td>\n",
       "      <td>0.00</td>\n",
       "    </tr>\n",
       "    <tr>\n",
       "      <th>IN_GESTANTE</th>\n",
       "      <td>IN_GESTANTE</td>\n",
       "      <td>int64</td>\n",
       "      <td>2</td>\n",
       "      <td>0</td>\n",
       "      <td>18300</td>\n",
       "      <td>0.00</td>\n",
       "    </tr>\n",
       "    <tr>\n",
       "      <th>IN_IDOSO</th>\n",
       "      <td>IN_IDOSO</td>\n",
       "      <td>int64</td>\n",
       "      <td>2</td>\n",
       "      <td>0</td>\n",
       "      <td>18300</td>\n",
       "      <td>0.00</td>\n",
       "    </tr>\n",
       "    <tr>\n",
       "      <th>TP_PRESENCA_CN</th>\n",
       "      <td>TP_PRESENCA_CN</td>\n",
       "      <td>int64</td>\n",
       "      <td>3</td>\n",
       "      <td>0</td>\n",
       "      <td>18300</td>\n",
       "      <td>0.00</td>\n",
       "    </tr>\n",
       "    <tr>\n",
       "      <th>TP_PRESENCA_CH</th>\n",
       "      <td>TP_PRESENCA_CH</td>\n",
       "      <td>int64</td>\n",
       "      <td>3</td>\n",
       "      <td>0</td>\n",
       "      <td>18300</td>\n",
       "      <td>0.00</td>\n",
       "    </tr>\n",
       "    <tr>\n",
       "      <th>TP_PRESENCA_LC</th>\n",
       "      <td>TP_PRESENCA_LC</td>\n",
       "      <td>int64</td>\n",
       "      <td>3</td>\n",
       "      <td>0</td>\n",
       "      <td>18300</td>\n",
       "      <td>0.00</td>\n",
       "    </tr>\n",
       "    <tr>\n",
       "      <th>TP_PRESENCA_MT</th>\n",
       "      <td>TP_PRESENCA_MT</td>\n",
       "      <td>int64</td>\n",
       "      <td>3</td>\n",
       "      <td>0</td>\n",
       "      <td>18300</td>\n",
       "      <td>0.00</td>\n",
       "    </tr>\n",
       "    <tr>\n",
       "      <th>NU_NOTA_CN</th>\n",
       "      <td>NU_NOTA_CN</td>\n",
       "      <td>float64</td>\n",
       "      <td>2848</td>\n",
       "      <td>4501</td>\n",
       "      <td>18300</td>\n",
       "      <td>0.25</td>\n",
       "    </tr>\n",
       "    <tr>\n",
       "      <th>NU_NOTA_CH</th>\n",
       "      <td>NU_NOTA_CH</td>\n",
       "      <td>float64</td>\n",
       "      <td>3179</td>\n",
       "      <td>4501</td>\n",
       "      <td>18300</td>\n",
       "      <td>0.25</td>\n",
       "    </tr>\n",
       "    <tr>\n",
       "      <th>NU_NOTA_LC</th>\n",
       "      <td>NU_NOTA_LC</td>\n",
       "      <td>float64</td>\n",
       "      <td>2942</td>\n",
       "      <td>4767</td>\n",
       "      <td>18300</td>\n",
       "      <td>0.26</td>\n",
       "    </tr>\n",
       "    <tr>\n",
       "      <th>TP_LINGUA</th>\n",
       "      <td>TP_LINGUA</td>\n",
       "      <td>int64</td>\n",
       "      <td>2</td>\n",
       "      <td>0</td>\n",
       "      <td>18300</td>\n",
       "      <td>0.00</td>\n",
       "    </tr>\n",
       "    <tr>\n",
       "      <th>TP_STATUS_REDACAO</th>\n",
       "      <td>TP_STATUS_REDACAO</td>\n",
       "      <td>float64</td>\n",
       "      <td>9</td>\n",
       "      <td>4767</td>\n",
       "      <td>18300</td>\n",
       "      <td>0.26</td>\n",
       "    </tr>\n",
       "    <tr>\n",
       "      <th>NU_NOTA_COMP1</th>\n",
       "      <td>NU_NOTA_COMP1</td>\n",
       "      <td>float64</td>\n",
       "      <td>16</td>\n",
       "      <td>4767</td>\n",
       "      <td>18300</td>\n",
       "      <td>0.26</td>\n",
       "    </tr>\n",
       "    <tr>\n",
       "      <th>NU_NOTA_COMP2</th>\n",
       "      <td>NU_NOTA_COMP2</td>\n",
       "      <td>float64</td>\n",
       "      <td>14</td>\n",
       "      <td>4767</td>\n",
       "      <td>18300</td>\n",
       "      <td>0.26</td>\n",
       "    </tr>\n",
       "    <tr>\n",
       "      <th>NU_NOTA_COMP3</th>\n",
       "      <td>NU_NOTA_COMP3</td>\n",
       "      <td>float64</td>\n",
       "      <td>12</td>\n",
       "      <td>4767</td>\n",
       "      <td>18300</td>\n",
       "      <td>0.26</td>\n",
       "    </tr>\n",
       "    <tr>\n",
       "      <th>NU_NOTA_COMP4</th>\n",
       "      <td>NU_NOTA_COMP4</td>\n",
       "      <td>float64</td>\n",
       "      <td>15</td>\n",
       "      <td>4767</td>\n",
       "      <td>18300</td>\n",
       "      <td>0.26</td>\n",
       "    </tr>\n",
       "    <tr>\n",
       "      <th>NU_NOTA_COMP5</th>\n",
       "      <td>NU_NOTA_COMP5</td>\n",
       "      <td>float64</td>\n",
       "      <td>14</td>\n",
       "      <td>4767</td>\n",
       "      <td>18300</td>\n",
       "      <td>0.26</td>\n",
       "    </tr>\n",
       "    <tr>\n",
       "      <th>NU_NOTA_REDACAO</th>\n",
       "      <td>NU_NOTA_REDACAO</td>\n",
       "      <td>float64</td>\n",
       "      <td>54</td>\n",
       "      <td>4767</td>\n",
       "      <td>18300</td>\n",
       "      <td>0.26</td>\n",
       "    </tr>\n",
       "    <tr>\n",
       "      <th>Q001</th>\n",
       "      <td>Q001</td>\n",
       "      <td>object</td>\n",
       "      <td>8</td>\n",
       "      <td>0</td>\n",
       "      <td>18300</td>\n",
       "      <td>0.00</td>\n",
       "    </tr>\n",
       "    <tr>\n",
       "      <th>Q002</th>\n",
       "      <td>Q002</td>\n",
       "      <td>object</td>\n",
       "      <td>8</td>\n",
       "      <td>0</td>\n",
       "      <td>18300</td>\n",
       "      <td>0.00</td>\n",
       "    </tr>\n",
       "    <tr>\n",
       "      <th>Q006</th>\n",
       "      <td>Q006</td>\n",
       "      <td>object</td>\n",
       "      <td>17</td>\n",
       "      <td>0</td>\n",
       "      <td>18300</td>\n",
       "      <td>0.00</td>\n",
       "    </tr>\n",
       "    <tr>\n",
       "      <th>Q024</th>\n",
       "      <td>Q024</td>\n",
       "      <td>object</td>\n",
       "      <td>5</td>\n",
       "      <td>0</td>\n",
       "      <td>18300</td>\n",
       "      <td>0.00</td>\n",
       "    </tr>\n",
       "    <tr>\n",
       "      <th>Q025</th>\n",
       "      <td>Q025</td>\n",
       "      <td>object</td>\n",
       "      <td>2</td>\n",
       "      <td>0</td>\n",
       "      <td>18300</td>\n",
       "      <td>0.00</td>\n",
       "    </tr>\n",
       "    <tr>\n",
       "      <th>Q026</th>\n",
       "      <td>Q026</td>\n",
       "      <td>object</td>\n",
       "      <td>3</td>\n",
       "      <td>0</td>\n",
       "      <td>18300</td>\n",
       "      <td>0.00</td>\n",
       "    </tr>\n",
       "    <tr>\n",
       "      <th>Q027</th>\n",
       "      <td>Q027</td>\n",
       "      <td>object</td>\n",
       "      <td>13</td>\n",
       "      <td>9810</td>\n",
       "      <td>18300</td>\n",
       "      <td>0.54</td>\n",
       "    </tr>\n",
       "    <tr>\n",
       "      <th>Q047</th>\n",
       "      <td>Q047</td>\n",
       "      <td>object</td>\n",
       "      <td>5</td>\n",
       "      <td>0</td>\n",
       "      <td>18300</td>\n",
       "      <td>0.00</td>\n",
       "    </tr>\n",
       "    <tr>\n",
       "      <th>IN_TREINEIRO</th>\n",
       "      <td>IN_TREINEIRO</td>\n",
       "      <td>float64</td>\n",
       "      <td>2</td>\n",
       "      <td>4570</td>\n",
       "      <td>18300</td>\n",
       "      <td>0.25</td>\n",
       "    </tr>\n",
       "    <tr>\n",
       "      <th>train</th>\n",
       "      <td>train</td>\n",
       "      <td>bool</td>\n",
       "      <td>2</td>\n",
       "      <td>0</td>\n",
       "      <td>18300</td>\n",
       "      <td>0.00</td>\n",
       "    </tr>\n",
       "  </tbody>\n",
       "</table>\n",
       "</div>"
      ],
      "text/plain": [
       "                                       columns     type  unique  missing  \\\n",
       "NU_INSCRICAO                      NU_INSCRICAO   object   18300        0   \n",
       "CO_UF_RESIDENCIA              CO_UF_RESIDENCIA    int64      27        0   \n",
       "SG_UF_RESIDENCIA              SG_UF_RESIDENCIA   object      27        0   \n",
       "NU_IDADE                              NU_IDADE    int64      55        0   \n",
       "TP_SEXO                                TP_SEXO   object       2        0   \n",
       "TP_COR_RACA                        TP_COR_RACA    int64       6        0   \n",
       "TP_NACIONALIDADE              TP_NACIONALIDADE    int64       5        0   \n",
       "TP_ST_CONCLUSAO                TP_ST_CONCLUSAO    int64       4        0   \n",
       "TP_ANO_CONCLUIU                TP_ANO_CONCLUIU    int64      11        0   \n",
       "TP_ESCOLA                            TP_ESCOLA    int64       4        0   \n",
       "TP_ENSINO                            TP_ENSINO  float64       3    12592   \n",
       "TP_DEPENDENCIA_ADM_ESC  TP_DEPENDENCIA_ADM_ESC  float64       4    12592   \n",
       "IN_BAIXA_VISAO                  IN_BAIXA_VISAO    int64       2        0   \n",
       "IN_CEGUEIRA                        IN_CEGUEIRA    int64       2        0   \n",
       "IN_SURDEZ                            IN_SURDEZ    int64       2        0   \n",
       "IN_DISLEXIA                        IN_DISLEXIA    int64       2        0   \n",
       "IN_DISCALCULIA                  IN_DISCALCULIA    int64       2        0   \n",
       "IN_SABATISTA                      IN_SABATISTA    int64       2        0   \n",
       "IN_GESTANTE                        IN_GESTANTE    int64       2        0   \n",
       "IN_IDOSO                              IN_IDOSO    int64       2        0   \n",
       "TP_PRESENCA_CN                  TP_PRESENCA_CN    int64       3        0   \n",
       "TP_PRESENCA_CH                  TP_PRESENCA_CH    int64       3        0   \n",
       "TP_PRESENCA_LC                  TP_PRESENCA_LC    int64       3        0   \n",
       "TP_PRESENCA_MT                  TP_PRESENCA_MT    int64       3        0   \n",
       "NU_NOTA_CN                          NU_NOTA_CN  float64    2848     4501   \n",
       "NU_NOTA_CH                          NU_NOTA_CH  float64    3179     4501   \n",
       "NU_NOTA_LC                          NU_NOTA_LC  float64    2942     4767   \n",
       "TP_LINGUA                            TP_LINGUA    int64       2        0   \n",
       "TP_STATUS_REDACAO            TP_STATUS_REDACAO  float64       9     4767   \n",
       "NU_NOTA_COMP1                    NU_NOTA_COMP1  float64      16     4767   \n",
       "NU_NOTA_COMP2                    NU_NOTA_COMP2  float64      14     4767   \n",
       "NU_NOTA_COMP3                    NU_NOTA_COMP3  float64      12     4767   \n",
       "NU_NOTA_COMP4                    NU_NOTA_COMP4  float64      15     4767   \n",
       "NU_NOTA_COMP5                    NU_NOTA_COMP5  float64      14     4767   \n",
       "NU_NOTA_REDACAO                NU_NOTA_REDACAO  float64      54     4767   \n",
       "Q001                                      Q001   object       8        0   \n",
       "Q002                                      Q002   object       8        0   \n",
       "Q006                                      Q006   object      17        0   \n",
       "Q024                                      Q024   object       5        0   \n",
       "Q025                                      Q025   object       2        0   \n",
       "Q026                                      Q026   object       3        0   \n",
       "Q027                                      Q027   object      13     9810   \n",
       "Q047                                      Q047   object       5        0   \n",
       "IN_TREINEIRO                      IN_TREINEIRO  float64       2     4570   \n",
       "train                                    train     bool       2        0   \n",
       "\n",
       "                         size  missing_%  \n",
       "NU_INSCRICAO            18300       0.00  \n",
       "CO_UF_RESIDENCIA        18300       0.00  \n",
       "SG_UF_RESIDENCIA        18300       0.00  \n",
       "NU_IDADE                18300       0.00  \n",
       "TP_SEXO                 18300       0.00  \n",
       "TP_COR_RACA             18300       0.00  \n",
       "TP_NACIONALIDADE        18300       0.00  \n",
       "TP_ST_CONCLUSAO         18300       0.00  \n",
       "TP_ANO_CONCLUIU         18300       0.00  \n",
       "TP_ESCOLA               18300       0.00  \n",
       "TP_ENSINO               18300       0.69  \n",
       "TP_DEPENDENCIA_ADM_ESC  18300       0.69  \n",
       "IN_BAIXA_VISAO          18300       0.00  \n",
       "IN_CEGUEIRA             18300       0.00  \n",
       "IN_SURDEZ               18300       0.00  \n",
       "IN_DISLEXIA             18300       0.00  \n",
       "IN_DISCALCULIA          18300       0.00  \n",
       "IN_SABATISTA            18300       0.00  \n",
       "IN_GESTANTE             18300       0.00  \n",
       "IN_IDOSO                18300       0.00  \n",
       "TP_PRESENCA_CN          18300       0.00  \n",
       "TP_PRESENCA_CH          18300       0.00  \n",
       "TP_PRESENCA_LC          18300       0.00  \n",
       "TP_PRESENCA_MT          18300       0.00  \n",
       "NU_NOTA_CN              18300       0.25  \n",
       "NU_NOTA_CH              18300       0.25  \n",
       "NU_NOTA_LC              18300       0.26  \n",
       "TP_LINGUA               18300       0.00  \n",
       "TP_STATUS_REDACAO       18300       0.26  \n",
       "NU_NOTA_COMP1           18300       0.26  \n",
       "NU_NOTA_COMP2           18300       0.26  \n",
       "NU_NOTA_COMP3           18300       0.26  \n",
       "NU_NOTA_COMP4           18300       0.26  \n",
       "NU_NOTA_COMP5           18300       0.26  \n",
       "NU_NOTA_REDACAO         18300       0.26  \n",
       "Q001                    18300       0.00  \n",
       "Q002                    18300       0.00  \n",
       "Q006                    18300       0.00  \n",
       "Q024                    18300       0.00  \n",
       "Q025                    18300       0.00  \n",
       "Q026                    18300       0.00  \n",
       "Q027                    18300       0.54  \n",
       "Q047                    18300       0.00  \n",
       "IN_TREINEIRO            18300       0.25  \n",
       "train                   18300       0.00  "
      ]
     },
     "execution_count": 10,
     "metadata": {},
     "output_type": "execute_result"
    }
   ],
   "source": [
    "#Criando df auxiliar\n",
    "def auxiliar_df(df):\n",
    "    df_aux = pd.DataFrame({'columns':df.columns,\n",
    "                           'type':df.dtypes,\n",
    "                           'unique': df.nunique(),\n",
    "                           'missing':df.isnull().sum(),\n",
    "                           'size': df.shape[0]})\n",
    "    df_aux['missing_%']=round(df_aux['missing']/df_aux['size'],2)\n",
    "    return df_aux\n",
    "df_aux = auxiliar_df(df)\n",
    "df_aux"
   ]
  },
  {
   "cell_type": "markdown",
   "metadata": {},
   "source": [
    "we can drop the columns that have more than 50% of missing data"
   ]
  },
  {
   "cell_type": "code",
   "execution_count": 11,
   "metadata": {},
   "outputs": [
    {
     "data": {
      "text/plain": [
       "['TP_ENSINO', 'TP_DEPENDENCIA_ADM_ESC', 'Q027']"
      ]
     },
     "execution_count": 11,
     "metadata": {},
     "output_type": "execute_result"
    }
   ],
   "source": [
    "columns_todrop = list(df_aux[df_aux['missing_%']>=0.5]['columns'])\n",
    "columns_todrop"
   ]
  },
  {
   "cell_type": "code",
   "execution_count": 12,
   "metadata": {},
   "outputs": [],
   "source": [
    "df.drop(columns_todrop, axis=1, inplace = True)"
   ]
  },
  {
   "cell_type": "markdown",
   "metadata": {},
   "source": [
    "We can drop the `SG_UF_RESIDENCIA`because we have the encoded column `CO_UF_RESIDENCIA`"
   ]
  },
  {
   "cell_type": "code",
   "execution_count": 13,
   "metadata": {},
   "outputs": [],
   "source": [
    "df.drop('SG_UF_RESIDENCIA', axis=1, inplace = True)"
   ]
  },
  {
   "cell_type": "markdown",
   "metadata": {},
   "source": [
    "   We have 4767 NaN values for `TP_STATUS_REDACAO`, `NU_NOTA_COMP1`, `NU_NOTA_COMP2`, `NU_NOTA_COMP3`, `NU_NOTA_COMP4`, `NU_NOTA_COMP5`, and `NU_NOTA_REDACAO`. All of them are for essay grade. We can assume the student didn't do the essay. So we can use `fillna` to 0, and for `TP_STATUS_REDACAO` we have to imput the nan values to 4, which means `in blank`."
   ]
  },
  {
   "cell_type": "code",
   "execution_count": 14,
   "metadata": {},
   "outputs": [
    {
     "data": {
      "text/html": [
       "<div>\n",
       "<style scoped>\n",
       "    .dataframe tbody tr th:only-of-type {\n",
       "        vertical-align: middle;\n",
       "    }\n",
       "\n",
       "    .dataframe tbody tr th {\n",
       "        vertical-align: top;\n",
       "    }\n",
       "\n",
       "    .dataframe thead th {\n",
       "        text-align: right;\n",
       "    }\n",
       "</style>\n",
       "<table border=\"1\" class=\"dataframe\">\n",
       "  <thead>\n",
       "    <tr style=\"text-align: right;\">\n",
       "      <th></th>\n",
       "      <th>columns</th>\n",
       "      <th>type</th>\n",
       "      <th>unique</th>\n",
       "      <th>missing</th>\n",
       "      <th>size</th>\n",
       "      <th>missing_%</th>\n",
       "    </tr>\n",
       "  </thead>\n",
       "  <tbody>\n",
       "    <tr>\n",
       "      <th>NU_INSCRICAO</th>\n",
       "      <td>NU_INSCRICAO</td>\n",
       "      <td>object</td>\n",
       "      <td>18300</td>\n",
       "      <td>0</td>\n",
       "      <td>18300</td>\n",
       "      <td>0.00</td>\n",
       "    </tr>\n",
       "    <tr>\n",
       "      <th>CO_UF_RESIDENCIA</th>\n",
       "      <td>CO_UF_RESIDENCIA</td>\n",
       "      <td>int64</td>\n",
       "      <td>27</td>\n",
       "      <td>0</td>\n",
       "      <td>18300</td>\n",
       "      <td>0.00</td>\n",
       "    </tr>\n",
       "    <tr>\n",
       "      <th>NU_IDADE</th>\n",
       "      <td>NU_IDADE</td>\n",
       "      <td>int64</td>\n",
       "      <td>55</td>\n",
       "      <td>0</td>\n",
       "      <td>18300</td>\n",
       "      <td>0.00</td>\n",
       "    </tr>\n",
       "    <tr>\n",
       "      <th>TP_SEXO</th>\n",
       "      <td>TP_SEXO</td>\n",
       "      <td>object</td>\n",
       "      <td>2</td>\n",
       "      <td>0</td>\n",
       "      <td>18300</td>\n",
       "      <td>0.00</td>\n",
       "    </tr>\n",
       "    <tr>\n",
       "      <th>TP_COR_RACA</th>\n",
       "      <td>TP_COR_RACA</td>\n",
       "      <td>int64</td>\n",
       "      <td>6</td>\n",
       "      <td>0</td>\n",
       "      <td>18300</td>\n",
       "      <td>0.00</td>\n",
       "    </tr>\n",
       "    <tr>\n",
       "      <th>TP_NACIONALIDADE</th>\n",
       "      <td>TP_NACIONALIDADE</td>\n",
       "      <td>int64</td>\n",
       "      <td>5</td>\n",
       "      <td>0</td>\n",
       "      <td>18300</td>\n",
       "      <td>0.00</td>\n",
       "    </tr>\n",
       "    <tr>\n",
       "      <th>TP_ST_CONCLUSAO</th>\n",
       "      <td>TP_ST_CONCLUSAO</td>\n",
       "      <td>int64</td>\n",
       "      <td>4</td>\n",
       "      <td>0</td>\n",
       "      <td>18300</td>\n",
       "      <td>0.00</td>\n",
       "    </tr>\n",
       "    <tr>\n",
       "      <th>TP_ANO_CONCLUIU</th>\n",
       "      <td>TP_ANO_CONCLUIU</td>\n",
       "      <td>int64</td>\n",
       "      <td>11</td>\n",
       "      <td>0</td>\n",
       "      <td>18300</td>\n",
       "      <td>0.00</td>\n",
       "    </tr>\n",
       "    <tr>\n",
       "      <th>TP_ESCOLA</th>\n",
       "      <td>TP_ESCOLA</td>\n",
       "      <td>int64</td>\n",
       "      <td>4</td>\n",
       "      <td>0</td>\n",
       "      <td>18300</td>\n",
       "      <td>0.00</td>\n",
       "    </tr>\n",
       "    <tr>\n",
       "      <th>IN_BAIXA_VISAO</th>\n",
       "      <td>IN_BAIXA_VISAO</td>\n",
       "      <td>int64</td>\n",
       "      <td>2</td>\n",
       "      <td>0</td>\n",
       "      <td>18300</td>\n",
       "      <td>0.00</td>\n",
       "    </tr>\n",
       "    <tr>\n",
       "      <th>IN_CEGUEIRA</th>\n",
       "      <td>IN_CEGUEIRA</td>\n",
       "      <td>int64</td>\n",
       "      <td>2</td>\n",
       "      <td>0</td>\n",
       "      <td>18300</td>\n",
       "      <td>0.00</td>\n",
       "    </tr>\n",
       "    <tr>\n",
       "      <th>IN_SURDEZ</th>\n",
       "      <td>IN_SURDEZ</td>\n",
       "      <td>int64</td>\n",
       "      <td>2</td>\n",
       "      <td>0</td>\n",
       "      <td>18300</td>\n",
       "      <td>0.00</td>\n",
       "    </tr>\n",
       "    <tr>\n",
       "      <th>IN_DISLEXIA</th>\n",
       "      <td>IN_DISLEXIA</td>\n",
       "      <td>int64</td>\n",
       "      <td>2</td>\n",
       "      <td>0</td>\n",
       "      <td>18300</td>\n",
       "      <td>0.00</td>\n",
       "    </tr>\n",
       "    <tr>\n",
       "      <th>IN_DISCALCULIA</th>\n",
       "      <td>IN_DISCALCULIA</td>\n",
       "      <td>int64</td>\n",
       "      <td>2</td>\n",
       "      <td>0</td>\n",
       "      <td>18300</td>\n",
       "      <td>0.00</td>\n",
       "    </tr>\n",
       "    <tr>\n",
       "      <th>IN_SABATISTA</th>\n",
       "      <td>IN_SABATISTA</td>\n",
       "      <td>int64</td>\n",
       "      <td>2</td>\n",
       "      <td>0</td>\n",
       "      <td>18300</td>\n",
       "      <td>0.00</td>\n",
       "    </tr>\n",
       "    <tr>\n",
       "      <th>IN_GESTANTE</th>\n",
       "      <td>IN_GESTANTE</td>\n",
       "      <td>int64</td>\n",
       "      <td>2</td>\n",
       "      <td>0</td>\n",
       "      <td>18300</td>\n",
       "      <td>0.00</td>\n",
       "    </tr>\n",
       "    <tr>\n",
       "      <th>IN_IDOSO</th>\n",
       "      <td>IN_IDOSO</td>\n",
       "      <td>int64</td>\n",
       "      <td>2</td>\n",
       "      <td>0</td>\n",
       "      <td>18300</td>\n",
       "      <td>0.00</td>\n",
       "    </tr>\n",
       "    <tr>\n",
       "      <th>TP_PRESENCA_CN</th>\n",
       "      <td>TP_PRESENCA_CN</td>\n",
       "      <td>int64</td>\n",
       "      <td>3</td>\n",
       "      <td>0</td>\n",
       "      <td>18300</td>\n",
       "      <td>0.00</td>\n",
       "    </tr>\n",
       "    <tr>\n",
       "      <th>TP_PRESENCA_CH</th>\n",
       "      <td>TP_PRESENCA_CH</td>\n",
       "      <td>int64</td>\n",
       "      <td>3</td>\n",
       "      <td>0</td>\n",
       "      <td>18300</td>\n",
       "      <td>0.00</td>\n",
       "    </tr>\n",
       "    <tr>\n",
       "      <th>TP_PRESENCA_LC</th>\n",
       "      <td>TP_PRESENCA_LC</td>\n",
       "      <td>int64</td>\n",
       "      <td>3</td>\n",
       "      <td>0</td>\n",
       "      <td>18300</td>\n",
       "      <td>0.00</td>\n",
       "    </tr>\n",
       "    <tr>\n",
       "      <th>TP_PRESENCA_MT</th>\n",
       "      <td>TP_PRESENCA_MT</td>\n",
       "      <td>int64</td>\n",
       "      <td>3</td>\n",
       "      <td>0</td>\n",
       "      <td>18300</td>\n",
       "      <td>0.00</td>\n",
       "    </tr>\n",
       "    <tr>\n",
       "      <th>NU_NOTA_CN</th>\n",
       "      <td>NU_NOTA_CN</td>\n",
       "      <td>float64</td>\n",
       "      <td>2848</td>\n",
       "      <td>4501</td>\n",
       "      <td>18300</td>\n",
       "      <td>0.25</td>\n",
       "    </tr>\n",
       "    <tr>\n",
       "      <th>NU_NOTA_CH</th>\n",
       "      <td>NU_NOTA_CH</td>\n",
       "      <td>float64</td>\n",
       "      <td>3179</td>\n",
       "      <td>4501</td>\n",
       "      <td>18300</td>\n",
       "      <td>0.25</td>\n",
       "    </tr>\n",
       "    <tr>\n",
       "      <th>NU_NOTA_LC</th>\n",
       "      <td>NU_NOTA_LC</td>\n",
       "      <td>float64</td>\n",
       "      <td>2942</td>\n",
       "      <td>4767</td>\n",
       "      <td>18300</td>\n",
       "      <td>0.26</td>\n",
       "    </tr>\n",
       "    <tr>\n",
       "      <th>TP_LINGUA</th>\n",
       "      <td>TP_LINGUA</td>\n",
       "      <td>int64</td>\n",
       "      <td>2</td>\n",
       "      <td>0</td>\n",
       "      <td>18300</td>\n",
       "      <td>0.00</td>\n",
       "    </tr>\n",
       "    <tr>\n",
       "      <th>TP_STATUS_REDACAO</th>\n",
       "      <td>TP_STATUS_REDACAO</td>\n",
       "      <td>float64</td>\n",
       "      <td>9</td>\n",
       "      <td>0</td>\n",
       "      <td>18300</td>\n",
       "      <td>0.00</td>\n",
       "    </tr>\n",
       "    <tr>\n",
       "      <th>NU_NOTA_COMP1</th>\n",
       "      <td>NU_NOTA_COMP1</td>\n",
       "      <td>float64</td>\n",
       "      <td>16</td>\n",
       "      <td>0</td>\n",
       "      <td>18300</td>\n",
       "      <td>0.00</td>\n",
       "    </tr>\n",
       "    <tr>\n",
       "      <th>NU_NOTA_COMP2</th>\n",
       "      <td>NU_NOTA_COMP2</td>\n",
       "      <td>float64</td>\n",
       "      <td>14</td>\n",
       "      <td>0</td>\n",
       "      <td>18300</td>\n",
       "      <td>0.00</td>\n",
       "    </tr>\n",
       "    <tr>\n",
       "      <th>NU_NOTA_COMP3</th>\n",
       "      <td>NU_NOTA_COMP3</td>\n",
       "      <td>float64</td>\n",
       "      <td>12</td>\n",
       "      <td>0</td>\n",
       "      <td>18300</td>\n",
       "      <td>0.00</td>\n",
       "    </tr>\n",
       "    <tr>\n",
       "      <th>NU_NOTA_COMP4</th>\n",
       "      <td>NU_NOTA_COMP4</td>\n",
       "      <td>float64</td>\n",
       "      <td>15</td>\n",
       "      <td>0</td>\n",
       "      <td>18300</td>\n",
       "      <td>0.00</td>\n",
       "    </tr>\n",
       "    <tr>\n",
       "      <th>NU_NOTA_COMP5</th>\n",
       "      <td>NU_NOTA_COMP5</td>\n",
       "      <td>float64</td>\n",
       "      <td>14</td>\n",
       "      <td>0</td>\n",
       "      <td>18300</td>\n",
       "      <td>0.00</td>\n",
       "    </tr>\n",
       "    <tr>\n",
       "      <th>NU_NOTA_REDACAO</th>\n",
       "      <td>NU_NOTA_REDACAO</td>\n",
       "      <td>float64</td>\n",
       "      <td>54</td>\n",
       "      <td>0</td>\n",
       "      <td>18300</td>\n",
       "      <td>0.00</td>\n",
       "    </tr>\n",
       "    <tr>\n",
       "      <th>Q001</th>\n",
       "      <td>Q001</td>\n",
       "      <td>object</td>\n",
       "      <td>8</td>\n",
       "      <td>0</td>\n",
       "      <td>18300</td>\n",
       "      <td>0.00</td>\n",
       "    </tr>\n",
       "    <tr>\n",
       "      <th>Q002</th>\n",
       "      <td>Q002</td>\n",
       "      <td>object</td>\n",
       "      <td>8</td>\n",
       "      <td>0</td>\n",
       "      <td>18300</td>\n",
       "      <td>0.00</td>\n",
       "    </tr>\n",
       "    <tr>\n",
       "      <th>Q006</th>\n",
       "      <td>Q006</td>\n",
       "      <td>object</td>\n",
       "      <td>17</td>\n",
       "      <td>0</td>\n",
       "      <td>18300</td>\n",
       "      <td>0.00</td>\n",
       "    </tr>\n",
       "    <tr>\n",
       "      <th>Q024</th>\n",
       "      <td>Q024</td>\n",
       "      <td>object</td>\n",
       "      <td>5</td>\n",
       "      <td>0</td>\n",
       "      <td>18300</td>\n",
       "      <td>0.00</td>\n",
       "    </tr>\n",
       "    <tr>\n",
       "      <th>Q025</th>\n",
       "      <td>Q025</td>\n",
       "      <td>object</td>\n",
       "      <td>2</td>\n",
       "      <td>0</td>\n",
       "      <td>18300</td>\n",
       "      <td>0.00</td>\n",
       "    </tr>\n",
       "    <tr>\n",
       "      <th>Q026</th>\n",
       "      <td>Q026</td>\n",
       "      <td>object</td>\n",
       "      <td>3</td>\n",
       "      <td>0</td>\n",
       "      <td>18300</td>\n",
       "      <td>0.00</td>\n",
       "    </tr>\n",
       "    <tr>\n",
       "      <th>Q047</th>\n",
       "      <td>Q047</td>\n",
       "      <td>object</td>\n",
       "      <td>5</td>\n",
       "      <td>0</td>\n",
       "      <td>18300</td>\n",
       "      <td>0.00</td>\n",
       "    </tr>\n",
       "    <tr>\n",
       "      <th>IN_TREINEIRO</th>\n",
       "      <td>IN_TREINEIRO</td>\n",
       "      <td>float64</td>\n",
       "      <td>2</td>\n",
       "      <td>4570</td>\n",
       "      <td>18300</td>\n",
       "      <td>0.25</td>\n",
       "    </tr>\n",
       "    <tr>\n",
       "      <th>train</th>\n",
       "      <td>train</td>\n",
       "      <td>bool</td>\n",
       "      <td>2</td>\n",
       "      <td>0</td>\n",
       "      <td>18300</td>\n",
       "      <td>0.00</td>\n",
       "    </tr>\n",
       "  </tbody>\n",
       "</table>\n",
       "</div>"
      ],
      "text/plain": [
       "                             columns     type  unique  missing   size  \\\n",
       "NU_INSCRICAO            NU_INSCRICAO   object   18300        0  18300   \n",
       "CO_UF_RESIDENCIA    CO_UF_RESIDENCIA    int64      27        0  18300   \n",
       "NU_IDADE                    NU_IDADE    int64      55        0  18300   \n",
       "TP_SEXO                      TP_SEXO   object       2        0  18300   \n",
       "TP_COR_RACA              TP_COR_RACA    int64       6        0  18300   \n",
       "TP_NACIONALIDADE    TP_NACIONALIDADE    int64       5        0  18300   \n",
       "TP_ST_CONCLUSAO      TP_ST_CONCLUSAO    int64       4        0  18300   \n",
       "TP_ANO_CONCLUIU      TP_ANO_CONCLUIU    int64      11        0  18300   \n",
       "TP_ESCOLA                  TP_ESCOLA    int64       4        0  18300   \n",
       "IN_BAIXA_VISAO        IN_BAIXA_VISAO    int64       2        0  18300   \n",
       "IN_CEGUEIRA              IN_CEGUEIRA    int64       2        0  18300   \n",
       "IN_SURDEZ                  IN_SURDEZ    int64       2        0  18300   \n",
       "IN_DISLEXIA              IN_DISLEXIA    int64       2        0  18300   \n",
       "IN_DISCALCULIA        IN_DISCALCULIA    int64       2        0  18300   \n",
       "IN_SABATISTA            IN_SABATISTA    int64       2        0  18300   \n",
       "IN_GESTANTE              IN_GESTANTE    int64       2        0  18300   \n",
       "IN_IDOSO                    IN_IDOSO    int64       2        0  18300   \n",
       "TP_PRESENCA_CN        TP_PRESENCA_CN    int64       3        0  18300   \n",
       "TP_PRESENCA_CH        TP_PRESENCA_CH    int64       3        0  18300   \n",
       "TP_PRESENCA_LC        TP_PRESENCA_LC    int64       3        0  18300   \n",
       "TP_PRESENCA_MT        TP_PRESENCA_MT    int64       3        0  18300   \n",
       "NU_NOTA_CN                NU_NOTA_CN  float64    2848     4501  18300   \n",
       "NU_NOTA_CH                NU_NOTA_CH  float64    3179     4501  18300   \n",
       "NU_NOTA_LC                NU_NOTA_LC  float64    2942     4767  18300   \n",
       "TP_LINGUA                  TP_LINGUA    int64       2        0  18300   \n",
       "TP_STATUS_REDACAO  TP_STATUS_REDACAO  float64       9        0  18300   \n",
       "NU_NOTA_COMP1          NU_NOTA_COMP1  float64      16        0  18300   \n",
       "NU_NOTA_COMP2          NU_NOTA_COMP2  float64      14        0  18300   \n",
       "NU_NOTA_COMP3          NU_NOTA_COMP3  float64      12        0  18300   \n",
       "NU_NOTA_COMP4          NU_NOTA_COMP4  float64      15        0  18300   \n",
       "NU_NOTA_COMP5          NU_NOTA_COMP5  float64      14        0  18300   \n",
       "NU_NOTA_REDACAO      NU_NOTA_REDACAO  float64      54        0  18300   \n",
       "Q001                            Q001   object       8        0  18300   \n",
       "Q002                            Q002   object       8        0  18300   \n",
       "Q006                            Q006   object      17        0  18300   \n",
       "Q024                            Q024   object       5        0  18300   \n",
       "Q025                            Q025   object       2        0  18300   \n",
       "Q026                            Q026   object       3        0  18300   \n",
       "Q047                            Q047   object       5        0  18300   \n",
       "IN_TREINEIRO            IN_TREINEIRO  float64       2     4570  18300   \n",
       "train                          train     bool       2        0  18300   \n",
       "\n",
       "                   missing_%  \n",
       "NU_INSCRICAO            0.00  \n",
       "CO_UF_RESIDENCIA        0.00  \n",
       "NU_IDADE                0.00  \n",
       "TP_SEXO                 0.00  \n",
       "TP_COR_RACA             0.00  \n",
       "TP_NACIONALIDADE        0.00  \n",
       "TP_ST_CONCLUSAO         0.00  \n",
       "TP_ANO_CONCLUIU         0.00  \n",
       "TP_ESCOLA               0.00  \n",
       "IN_BAIXA_VISAO          0.00  \n",
       "IN_CEGUEIRA             0.00  \n",
       "IN_SURDEZ               0.00  \n",
       "IN_DISLEXIA             0.00  \n",
       "IN_DISCALCULIA          0.00  \n",
       "IN_SABATISTA            0.00  \n",
       "IN_GESTANTE             0.00  \n",
       "IN_IDOSO                0.00  \n",
       "TP_PRESENCA_CN          0.00  \n",
       "TP_PRESENCA_CH          0.00  \n",
       "TP_PRESENCA_LC          0.00  \n",
       "TP_PRESENCA_MT          0.00  \n",
       "NU_NOTA_CN              0.25  \n",
       "NU_NOTA_CH              0.25  \n",
       "NU_NOTA_LC              0.26  \n",
       "TP_LINGUA               0.00  \n",
       "TP_STATUS_REDACAO       0.00  \n",
       "NU_NOTA_COMP1           0.00  \n",
       "NU_NOTA_COMP2           0.00  \n",
       "NU_NOTA_COMP3           0.00  \n",
       "NU_NOTA_COMP4           0.00  \n",
       "NU_NOTA_COMP5           0.00  \n",
       "NU_NOTA_REDACAO         0.00  \n",
       "Q001                    0.00  \n",
       "Q002                    0.00  \n",
       "Q006                    0.00  \n",
       "Q024                    0.00  \n",
       "Q025                    0.00  \n",
       "Q026                    0.00  \n",
       "Q047                    0.00  \n",
       "IN_TREINEIRO            0.25  \n",
       "train                   0.00  "
      ]
     },
     "execution_count": 14,
     "metadata": {},
     "output_type": "execute_result"
    }
   ],
   "source": [
    "cols_to_input= [\n",
    "    'NU_NOTA_COMP1', \n",
    "    'NU_NOTA_COMP2', \n",
    "    'NU_NOTA_COMP3', \n",
    "    'NU_NOTA_COMP4', \n",
    "    'NU_NOTA_COMP5',\n",
    "    'NU_NOTA_REDACAO']\n",
    "\n",
    "# fill missing values for cols_to_input\n",
    "\n",
    "for feature in cols_to_input:\n",
    "    df[feature]=df[feature].fillna(0) \n",
    "\n",
    "# fill missing values for TP_STATUS_REDACAO\n",
    "\n",
    "df['TP_STATUS_REDACAO']=df['TP_STATUS_REDACAO'].fillna(4)\n",
    "auxiliar_df(df)"
   ]
  },
  {
   "cell_type": "markdown",
   "metadata": {},
   "source": [
    "For `NU_NOTA_CN`, `NU_NOTA_CH`, `NU_NOTA_LC`. We are going to imput the NaN values to 0, which means the student was absent at the test date. "
   ]
  },
  {
   "cell_type": "code",
   "execution_count": 15,
   "metadata": {},
   "outputs": [],
   "source": [
    "for feature in ['NU_NOTA_CN', 'NU_NOTA_CH', 'NU_NOTA_LC']:\n",
    "    df[feature]=df[feature].fillna(0) "
   ]
  },
  {
   "cell_type": "code",
   "execution_count": 16,
   "metadata": {},
   "outputs": [
    {
     "data": {
      "text/plain": [
       "NU_INSCRICAO            0\n",
       "CO_UF_RESIDENCIA        0\n",
       "NU_IDADE                0\n",
       "TP_SEXO                 0\n",
       "TP_COR_RACA             0\n",
       "TP_NACIONALIDADE        0\n",
       "TP_ST_CONCLUSAO         0\n",
       "TP_ANO_CONCLUIU         0\n",
       "TP_ESCOLA               0\n",
       "IN_BAIXA_VISAO          0\n",
       "IN_CEGUEIRA             0\n",
       "IN_SURDEZ               0\n",
       "IN_DISLEXIA             0\n",
       "IN_DISCALCULIA          0\n",
       "IN_SABATISTA            0\n",
       "IN_GESTANTE             0\n",
       "IN_IDOSO                0\n",
       "TP_PRESENCA_CN          0\n",
       "TP_PRESENCA_CH          0\n",
       "TP_PRESENCA_LC          0\n",
       "TP_PRESENCA_MT          0\n",
       "NU_NOTA_CN              0\n",
       "NU_NOTA_CH              0\n",
       "NU_NOTA_LC              0\n",
       "TP_LINGUA               0\n",
       "TP_STATUS_REDACAO       0\n",
       "NU_NOTA_COMP1           0\n",
       "NU_NOTA_COMP2           0\n",
       "NU_NOTA_COMP3           0\n",
       "NU_NOTA_COMP4           0\n",
       "NU_NOTA_COMP5           0\n",
       "NU_NOTA_REDACAO         0\n",
       "Q001                    0\n",
       "Q002                    0\n",
       "Q006                    0\n",
       "Q024                    0\n",
       "Q025                    0\n",
       "Q026                    0\n",
       "Q047                    0\n",
       "IN_TREINEIRO         4570\n",
       "train                   0\n",
       "dtype: int64"
      ]
     },
     "execution_count": 16,
     "metadata": {},
     "output_type": "execute_result"
    }
   ],
   "source": [
    "df.isnull().sum()"
   ]
  },
  {
   "cell_type": "markdown",
   "metadata": {},
   "source": [
    "We don't have any more missing values"
   ]
  },
  {
   "cell_type": "markdown",
   "metadata": {},
   "source": [
    "## Feature Engineering"
   ]
  },
  {
   "cell_type": "markdown",
   "metadata": {},
   "source": [
    "#### Let's analyse the feature `NU_IDADE`"
   ]
  },
  {
   "cell_type": "code",
   "execution_count": 17,
   "metadata": {},
   "outputs": [
    {
     "data": {
      "text/plain": [
       "<matplotlib.axes._subplots.AxesSubplot at 0x125f331c0>"
      ]
     },
     "execution_count": 17,
     "metadata": {},
     "output_type": "execute_result"
    },
    {
     "data": {
      "image/png": "[encoded data removed]",
      "text/plain": [
       "<Figure size 1080x1080 with 1 Axes>"
      ]
     },
     "metadata": {
      "needs_background": "light"
     },
     "output_type": "display_data"
    }
   ],
   "source": [
    "sns.countplot('NU_IDADE',data=df)"
   ]
  },
  {
   "cell_type": "markdown",
   "metadata": {},
   "source": [
    "We can see some data concentration to the left, therefore it is possible to create a category column to simplify this feature  "
   ]
  },
  {
   "cell_type": "code",
   "execution_count": 18,
   "metadata": {},
   "outputs": [],
   "source": [
    "df['TP_IDADE_CATEGORY'] = np.int64(pd.cut(df['NU_IDADE'], bins=[0, 16, 19, 22, 24, 27, 33, 41, 100], labels=range(8)).ravel())"
   ]
  },
  {
   "cell_type": "markdown",
   "metadata": {},
   "source": [
    "As we create the feature `TP_IDADE_CATEGORY`. we can drop the folowing columns: `NU_IDADE`, `IN_IDOSO`."
   ]
  },
  {
   "cell_type": "code",
   "execution_count": 19,
   "metadata": {},
   "outputs": [],
   "source": [
    "df.drop(['NU_IDADE','IN_IDOSO'],axis=1, inplace=True)"
   ]
  },
  {
   "cell_type": "markdown",
   "metadata": {},
   "source": [
    "#### Let's create a column for disabled people"
   ]
  },
  {
   "cell_type": "code",
   "execution_count": 20,
   "metadata": {},
   "outputs": [],
   "source": [
    "#Creating PCD feature\n",
    "df['PCD']= np.int64(df.IN_BAIXA_VISAO | df.IN_SURDEZ | df.IN_DISLEXIA | df.IN_DISCALCULIA | df.IN_CEGUEIRA)  \n"
   ]
  },
  {
   "cell_type": "markdown",
   "metadata": {},
   "source": [
    "Now that we create the column `PCD`, we can drop the columns as follows:"
   ]
  },
  {
   "cell_type": "code",
   "execution_count": 21,
   "metadata": {},
   "outputs": [],
   "source": [
    "df.drop(['IN_BAIXA_VISAO', 'IN_SURDEZ', 'IN_DISLEXIA', 'IN_DISCALCULIA', 'IN_CEGUEIRA'], axis= 1, inplace= True)"
   ]
  },
  {
   "cell_type": "markdown",
   "metadata": {},
   "source": [
    "#### Let's create a column for foreign people\n",
    "\n",
    "1 -> Foreign\n",
    "\n",
    "0 -> Brazilian"
   ]
  },
  {
   "cell_type": "code",
   "execution_count": 22,
   "metadata": {},
   "outputs": [],
   "source": [
    "mapping = {1:0,2:0,3:1,4:0,0:0}\n",
    "\n",
    "df['ESTRANGEIRO']= df['TP_NACIONALIDADE'].map(mapping)"
   ]
  },
  {
   "cell_type": "markdown",
   "metadata": {},
   "source": [
    "now we can drop the column `TP_NACIONALIDADE`"
   ]
  },
  {
   "cell_type": "code",
   "execution_count": 23,
   "metadata": {},
   "outputs": [],
   "source": [
    "df.drop('TP_NACIONALIDADE',axis=1, inplace=True)"
   ]
  },
  {
   "cell_type": "markdown",
   "metadata": {},
   "source": [
    "## Let's encode the categoric features using `pd.dummies`"
   ]
  },
  {
   "cell_type": "code",
   "execution_count": 24,
   "metadata": {},
   "outputs": [],
   "source": [
    "df = df.set_index('NU_INSCRICAO')\n",
    "col_to_encode = list(df.select_dtypes(include =['O']).columns)\n",
    "\n",
    "df = pd.get_dummies(df, columns = col_to_encode)"
   ]
  },
  {
   "cell_type": "markdown",
   "metadata": {},
   "source": [
    "Now it is time to split the `df` to `train` and `test` dataset"
   ]
  },
  {
   "cell_type": "markdown",
   "metadata": {},
   "source": [
    "### Train dataset"
   ]
  },
  {
   "cell_type": "code",
   "execution_count": 25,
   "metadata": {},
   "outputs": [],
   "source": [
    "df_train_imbalanced = df[df['train']==True]"
   ]
  },
  {
   "cell_type": "code",
   "execution_count": 26,
   "metadata": {},
   "outputs": [],
   "source": [
    "df_train_imbalanced.drop('train', axis=1, inplace= True)"
   ]
  },
  {
   "cell_type": "markdown",
   "metadata": {},
   "source": [
    "### Test dataset"
   ]
  },
  {
   "cell_type": "code",
   "execution_count": 27,
   "metadata": {},
   "outputs": [],
   "source": [
    "df_val = df[df['train']==False]"
   ]
  },
  {
   "cell_type": "code",
   "execution_count": 28,
   "metadata": {},
   "outputs": [],
   "source": [
    "df_val.drop(['train','IN_TREINEIRO'], axis=1, inplace= True )"
   ]
  },
  {
   "cell_type": "markdown",
   "metadata": {},
   "source": [
    "### Target variable"
   ]
  },
  {
   "cell_type": "code",
   "execution_count": 29,
   "metadata": {},
   "outputs": [],
   "source": [
    "y_train_imbalanced = df_train_imbalanced['IN_TREINEIRO']"
   ]
  },
  {
   "cell_type": "code",
   "execution_count": 30,
   "metadata": {},
   "outputs": [],
   "source": [
    "df_train_imbalanced.drop('IN_TREINEIRO', axis=1, inplace= True)"
   ]
  },
  {
   "cell_type": "markdown",
   "metadata": {},
   "source": [
    "## Now let's fix the imbalanced dataset issue"
   ]
  },
  {
   "cell_type": "markdown",
   "metadata": {},
   "source": [
    "We can use the `SMOTE` algorithm"
   ]
  },
  {
   "cell_type": "code",
   "execution_count": 31,
   "metadata": {},
   "outputs": [
    {
     "data": {
      "text/plain": [
       "0.0    11947\n",
       "1.0     1783\n",
       "Name: IN_TREINEIRO, dtype: int64"
      ]
     },
     "execution_count": 31,
     "metadata": {},
     "output_type": "execute_result"
    }
   ],
   "source": [
    "y_train_imbalanced.value_counts()"
   ]
  },
  {
   "cell_type": "markdown",
   "metadata": {},
   "source": [
    "We can see that the proportion between `1` and `0` is very different"
   ]
  },
  {
   "cell_type": "code",
   "execution_count": 32,
   "metadata": {},
   "outputs": [],
   "source": [
    "smote = SMOTE()\n",
    "\n",
    "X_smote, y_smote = smote.fit_resample(df_train_imbalanced, y_train_imbalanced)"
   ]
  },
  {
   "cell_type": "code",
   "execution_count": 33,
   "metadata": {},
   "outputs": [
    {
     "data": {
      "text/plain": [
       "1.0    11947\n",
       "0.0    11947\n",
       "Name: IN_TREINEIRO, dtype: int64"
      ]
     },
     "execution_count": 33,
     "metadata": {},
     "output_type": "execute_result"
    }
   ],
   "source": [
    "y_smote.value_counts()"
   ]
  },
  {
   "cell_type": "markdown",
   "metadata": {},
   "source": [
    "After we balanced the dataset we can see the proportion is 50%"
   ]
  },
  {
   "cell_type": "markdown",
   "metadata": {},
   "source": [
    "## Now let's split the `X_smote` and `y_smote` to `train` and `test` dataset using `train_test_split`"
   ]
  },
  {
   "cell_type": "code",
   "execution_count": 34,
   "metadata": {},
   "outputs": [],
   "source": [
    "X_train, X_test, y_train, y_test = train_test_split(X_smote, y_smote, test_size=0.3, random_state=42)"
   ]
  },
  {
   "cell_type": "markdown",
   "metadata": {},
   "source": [
    "## Let's create the classification model"
   ]
  },
  {
   "cell_type": "markdown",
   "metadata": {},
   "source": [
    "### LogisticRegression"
   ]
  },
  {
   "cell_type": "code",
   "execution_count": 35,
   "metadata": {},
   "outputs": [
    {
     "data": {
      "text/plain": [
       "LogisticRegression()"
      ]
     },
     "execution_count": 35,
     "metadata": {},
     "output_type": "execute_result"
    }
   ],
   "source": [
    "logistic = LogisticRegression()\n",
    "\n",
    "logistic.fit(X_train, y_train)"
   ]
  },
  {
   "cell_type": "code",
   "execution_count": 36,
   "metadata": {},
   "outputs": [],
   "source": [
    "#y_pred = logistic.predict(X_test)"
   ]
  },
  {
   "cell_type": "markdown",
   "metadata": {},
   "source": [
    "##### Metric"
   ]
  },
  {
   "cell_type": "code",
   "execution_count": 37,
   "metadata": {},
   "outputs": [
    {
     "data": {
      "text/plain": [
       "0.9746129167247872"
      ]
     },
     "execution_count": 37,
     "metadata": {},
     "output_type": "execute_result"
    }
   ],
   "source": [
    "logistic.score(X_test,y_test)"
   ]
  },
  {
   "cell_type": "markdown",
   "metadata": {},
   "source": [
    "### KNeighborsClassifier"
   ]
  },
  {
   "cell_type": "code",
   "execution_count": 38,
   "metadata": {},
   "outputs": [],
   "source": [
    "neighbors = np.arange(1,10)\n",
    "train_accuracy = np.empty(len(neighbors))\n",
    "test_accuracy = np.empty(len(neighbors))\n",
    "\n",
    "#loop over different values of k\n",
    "\n",
    "for i,k in enumerate(neighbors):\n",
    "    knn = KNeighborsClassifier(n_neighbors = k)\n",
    "    knn.fit(X_train, y_train)\n",
    "    train_accuracy[i]=knn.score(X_train,y_train)\n",
    "    test_accuracy[i]=knn.score(X_test,y_test)"
   ]
  },
  {
   "cell_type": "code",
   "execution_count": 39,
   "metadata": {},
   "outputs": [
    {
     "name": "stdout",
     "output_type": "stream",
     "text": [
      "[0.99964126 0.9922272  0.90529148 0.91772795 0.86266069 0.87790732\n",
      " 0.83623318 0.85022422 0.81793722]\n",
      "[0.87557539 0.88701353 0.8291254  0.8476775  0.81085228 0.8225694\n",
      " 0.79327661 0.80457525 0.77946715]\n"
     ]
    }
   ],
   "source": [
    "print(train_accuracy)\n",
    "print(test_accuracy)"
   ]
  },
  {
   "cell_type": "markdown",
   "metadata": {},
   "source": [
    "### Decision Tree Classifier"
   ]
  },
  {
   "cell_type": "code",
   "execution_count": 40,
   "metadata": {},
   "outputs": [
    {
     "data": {
      "text/plain": [
       "RandomizedSearchCV(cv=5, estimator=DecisionTreeClassifier(),\n",
       "                   param_distributions={'max_depth': [2, 3, 4, 5, 6, None],\n",
       "                                        'max_features': <scipy.stats._distn_infrastructure.rv_frozen object at 0x11f13db50>,\n",
       "                                        'min_samples_leaf': <scipy.stats._distn_infrastructure.rv_frozen object at 0x120affa60>})"
      ]
     },
     "execution_count": 40,
     "metadata": {},
     "output_type": "execute_result"
    }
   ],
   "source": [
    "param_dist = {'max_depth':[2,3,4,5,6,None],\n",
    "              'max_features':randint(1,9),\n",
    "              'min_samples_leaf':randint(1,9)\n",
    "    \n",
    "}\n",
    "tree = DecisionTreeClassifier()\n",
    "tree_cv = RandomizedSearchCV(tree,param_dist,cv=5)\n",
    "tree_cv.fit(X_train,y_train)"
   ]
  },
  {
   "cell_type": "code",
   "execution_count": 41,
   "metadata": {},
   "outputs": [
    {
     "name": "stdout",
     "output_type": "stream",
     "text": [
      "Tuned Decisions Tree Parameters: {'max_depth': 6, 'max_features': 5, 'min_samples_leaf': 1}\n"
     ]
    }
   ],
   "source": [
    "print('Tuned Decisions Tree Parameters: {}'.format(tree_cv.best_params_))"
   ]
  },
  {
   "cell_type": "code",
   "execution_count": 42,
   "metadata": {},
   "outputs": [
    {
     "name": "stdout",
     "output_type": "stream",
     "text": [
      "Best score is 0.8627204783258596\n"
     ]
    }
   ],
   "source": [
    "print('Best score is {}'.format(tree_cv.best_score_))"
   ]
  },
  {
   "cell_type": "markdown",
   "metadata": {},
   "source": [
    "### therefore logistic regression was the best model"
   ]
  },
  {
   "cell_type": "code",
   "execution_count": 48,
   "metadata": {},
   "outputs": [],
   "source": [
    "y_pred = logistic.predict(df_val)"
   ]
  },
  {
   "cell_type": "code",
   "execution_count": 49,
   "metadata": {},
   "outputs": [],
   "source": [
    "answer = pd.DataFrame({'NU_INSCRICAO':df_val.index,\n",
    "                       'IN_TREINEIRO':y_pred })"
   ]
  },
  {
   "cell_type": "code",
   "execution_count": 50,
   "metadata": {},
   "outputs": [],
   "source": [
    "answer.to_csv('answer.csv',index=False)"
   ]
  },
  {
   "cell_type": "code",
   "execution_count": 51,
   "metadata": {},
   "outputs": [
    {
     "data": {
      "text/html": [
       "<div>\n",
       "<style scoped>\n",
       "    .dataframe tbody tr th:only-of-type {\n",
       "        vertical-align: middle;\n",
       "    }\n",
       "\n",
       "    .dataframe tbody tr th {\n",
       "        vertical-align: top;\n",
       "    }\n",
       "\n",
       "    .dataframe thead th {\n",
       "        text-align: right;\n",
       "    }\n",
       "</style>\n",
       "<table border=\"1\" class=\"dataframe\">\n",
       "  <thead>\n",
       "    <tr style=\"text-align: right;\">\n",
       "      <th></th>\n",
       "      <th>NU_INSCRICAO</th>\n",
       "      <th>IN_TREINEIRO</th>\n",
       "    </tr>\n",
       "  </thead>\n",
       "  <tbody>\n",
       "    <tr>\n",
       "      <th>0</th>\n",
       "      <td>ba0cc30ba34e7a46764c09dfc38ed83d15828897</td>\n",
       "      <td>0.0</td>\n",
       "    </tr>\n",
       "    <tr>\n",
       "      <th>1</th>\n",
       "      <td>177f281c68fa032aedbd842a745da68490926cd2</td>\n",
       "      <td>0.0</td>\n",
       "    </tr>\n",
       "    <tr>\n",
       "      <th>2</th>\n",
       "      <td>6cf0d8b97597d7625cdedc7bdb6c0f052286c334</td>\n",
       "      <td>1.0</td>\n",
       "    </tr>\n",
       "    <tr>\n",
       "      <th>3</th>\n",
       "      <td>5c356d810fa57671402502cd0933e5601a2ebf1e</td>\n",
       "      <td>0.0</td>\n",
       "    </tr>\n",
       "    <tr>\n",
       "      <th>4</th>\n",
       "      <td>df47c07bd881c2db3f38c6048bf77c132ad0ceb3</td>\n",
       "      <td>0.0</td>\n",
       "    </tr>\n",
       "    <tr>\n",
       "      <th>...</th>\n",
       "      <td>...</td>\n",
       "      <td>...</td>\n",
       "    </tr>\n",
       "    <tr>\n",
       "      <th>4565</th>\n",
       "      <td>361b7fcd8867119550fe2af5aa729ffad89a7cf5</td>\n",
       "      <td>0.0</td>\n",
       "    </tr>\n",
       "    <tr>\n",
       "      <th>4566</th>\n",
       "      <td>d8a0e4c9e29494cc9bba2422bd79333931475ee1</td>\n",
       "      <td>0.0</td>\n",
       "    </tr>\n",
       "    <tr>\n",
       "      <th>4567</th>\n",
       "      <td>3f1c3388244df8d6521e983a809292d9f3bca643</td>\n",
       "      <td>0.0</td>\n",
       "    </tr>\n",
       "    <tr>\n",
       "      <th>4568</th>\n",
       "      <td>1778e9c4cef591beb6b986d191d15ed05de816b0</td>\n",
       "      <td>0.0</td>\n",
       "    </tr>\n",
       "    <tr>\n",
       "      <th>4569</th>\n",
       "      <td>096809759695097e384e766d2d9e23a34fc81610</td>\n",
       "      <td>0.0</td>\n",
       "    </tr>\n",
       "  </tbody>\n",
       "</table>\n",
       "<p>4570 rows × 2 columns</p>\n",
       "</div>"
      ],
      "text/plain": [
       "                                  NU_INSCRICAO  IN_TREINEIRO\n",
       "0     ba0cc30ba34e7a46764c09dfc38ed83d15828897           0.0\n",
       "1     177f281c68fa032aedbd842a745da68490926cd2           0.0\n",
       "2     6cf0d8b97597d7625cdedc7bdb6c0f052286c334           1.0\n",
       "3     5c356d810fa57671402502cd0933e5601a2ebf1e           0.0\n",
       "4     df47c07bd881c2db3f38c6048bf77c132ad0ceb3           0.0\n",
       "...                                        ...           ...\n",
       "4565  361b7fcd8867119550fe2af5aa729ffad89a7cf5           0.0\n",
       "4566  d8a0e4c9e29494cc9bba2422bd79333931475ee1           0.0\n",
       "4567  3f1c3388244df8d6521e983a809292d9f3bca643           0.0\n",
       "4568  1778e9c4cef591beb6b986d191d15ed05de816b0           0.0\n",
       "4569  096809759695097e384e766d2d9e23a34fc81610           0.0\n",
       "\n",
       "[4570 rows x 2 columns]"
      ]
     },
     "execution_count": 51,
     "metadata": {},
     "output_type": "execute_result"
    }
   ],
   "source": [
    "answer"
   ]
  },
  {
   "cell_type": "code",
   "execution_count": null,
   "metadata": {},
   "outputs": [],
   "source": []
  }
 ],
 "metadata": {
  "kernelspec": {
   "display_name": "venv7",
   "language": "python",
   "name": "venv7"
  },
  "language_info": {
   "codemirror_mode": {
    "name": "ipython",
    "version": 3
   },
   "file_extension": ".py",
   "mimetype": "text/x-python",
   "name": "python",
   "nbconvert_exporter": "python",
   "pygments_lexer": "ipython3",
   "version": "3.8.2"
  }
 },
 "nbformat": 4,
 "nbformat_minor": 4
}
